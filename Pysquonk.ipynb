{
 "cells": [
  {
   "cell_type": "markdown",
   "metadata": {},
   "source": [
    "## Pysquonk\n",
    "This notebook demonstrates the use of pysquonk, a python wrapper around the Informatics Matters Squonk REST API.\n"
   ]
  },
  {
   "cell_type": "code",
   "execution_count": 1,
   "metadata": {},
   "outputs": [
    {
     "name": "stdout",
     "output_type": "stream",
     "text": [
      "Enter Username >mpeacock\n",
      "Enter Password >········\n",
      "creating squonk object ...\n"
     ]
    }
   ],
   "source": [
    "from squonk import Squonk\n",
    "import os\n",
    "import sys\n",
    "import logging\n",
    "import argparse\n",
    "import getpass\n",
    "\n",
    "username = input('Enter Username >')\n",
    "password = getpass.getpass('Enter Password >')\n",
    "\n",
    "auth_url = 'https://sso.apps.xchem.diamond.ac.uk/auth/realms/xchem/protocol/openid-connect/token'\n",
    "base_url = 'https://jobexecutor.apps.xchem.diamond.ac.uk/jobexecutor/rest/v1'\n",
    "\n",
    "\n",
    "config = {\n",
    "  'base_url' : base_url,\n",
    "  'auth_url' : auth_url,\n",
    "  'username' : username,\n",
    "  'password' : password,\n",
    "  'services_endpoint' : 'services/',\n",
    "  'jobs_endpoint' : 'jobs/'\n",
    "}\n",
    "\n",
    "# Create a Squonk object\n",
    "\n",
    "print('creating squonk object ...')\n",
    "squonk = Squonk(config=config)\n"
   ]
  },
  {
   "cell_type": "markdown",
   "metadata": {},
   "source": [
    "## List Full Service Info"
   ]
  },
  {
   "cell_type": "code",
   "execution_count": 3,
   "metadata": {},
   "outputs": [
    {
     "name": "stdout",
     "output_type": "stream",
     "text": [
      "{'id': 'core.dataset.filter.slice.v1', 'name': 'Dataset slice selector', 'description': 'Generate a defined slice of the dataset', 'tags': ['filter', 'slice', 'dataset'], 'icon': 'icons/filter.png', 'inputDescriptors': [{'name': 'input', 'mediaType': 'application/x-squonk-dataset-basic+json', 'primaryType': 'org.squonk.dataset.Dataset', 'secondaryType': 'org.squonk.types.BasicObject'}], 'outputDescriptors': [{'name': 'output', 'mediaType': 'application/x-squonk-dataset-basic+json', 'primaryType': 'org.squonk.dataset.Dataset', 'secondaryType': 'org.squonk.types.BasicObject'}], 'optionDescriptors': [{'@class': 'org.squonk.options.OptionDescriptor', 'typeDescriptor': {'@class': 'org.squonk.options.SimpleTypeDescriptor', 'type': 'java.lang.Integer'}, 'key': 'skip', 'label': 'Number to skip', 'description': 'The number of records to skip', 'visible': True, 'editable': True, 'minValues': 1, 'maxValues': 1, 'modes': ['User']}, {'@class': 'org.squonk.options.OptionDescriptor', 'typeDescriptor': {'@class': 'org.squonk.options.SimpleTypeDescriptor', 'type': 'java.lang.Integer'}, 'key': 'count', 'label': 'Number to include', 'description': 'The number of records to include after skipping', 'visible': True, 'editable': True, 'minValues': 1, 'maxValues': 1, 'modes': ['User']}], 'status': 'ACTIVE', 'statusLastChecked': 1572330120727, 'executorClassName': 'org.squonk.execution.steps.impl.DatasetSelectSliceStep'}\n"
     ]
    }
   ],
   "source": [
    "service = 'core.dataset.filter.slice.v1';\n",
    "info = squonk.list_full_service_info(service)\n",
    "print(info)"
   ]
  },
  {
   "cell_type": "markdown",
   "metadata": {},
   "source": [
    "## List available services"
   ]
  },
  {
   "cell_type": "code",
   "execution_count": 4,
   "metadata": {},
   "outputs": [
    {
     "name": "stdout",
     "output_type": "stream",
     "text": [
      "['cdk.dataset.convert.molecule.format', 'pipelines.pli.v1', 'chemaxon.calculators.verify', 'cdk.donors_acceptors', 'pipelines.rdkit.maxminpicker.simple.1', 'chemaxon.calculators.logd', 'chemaxon.calculators.bpka', 'chemaxon.calculators.druglikefilter', 'cdk.export.sdf', 'chemaxon.calculators.logp', 'chemaxon.calculators.logs', 'chemaxon.calculators.ghosefilter', 'cdk.wiener_numbers', 'pipelines.xchem.smarts_filter.reaction', 'pipelines.docking.rdock.basic.v2', 'chemaxon.clustering.sperex', 'rdkit.calculators.rotatable_bonds', 'pipelines.xchem.sanify.standardise.flatkinson.v1', 'rdkit.chemcentral.search.similarity', 'ocl.psa', 'rdkit.calculators.formal_charge', 'pipelines.rdkit.o3da.basic', 'chemaxon.calculators.lipinski', 'cdk.logp', 'chemaxon.calculators.veberfilter', 'pipelines.rdkit.cluster.butina', 'rdkit.calculators.frac_c_sp3', 'core.dataset.uuidfilter.v1', 'rdkit.calculators.ghose', 'pipelines.dmpk.sygnature.tmax_cmax_sim.1', 'chemaxon.calculators.cnsMpo', 'rdkit.calculators.canonical_smiles', 'rdkit.calculators.donors_acceptors', 'core.dataset.filter.slice.v1', 'chemaxon.calculators.atomcount', 'rdkit.calculators.molar_refractivity', 'pipelines.rdkit.maxminpicker.enrich.1', 'core.dataset.merger.v1', 'chemaxon.calculators.reosfilter', 'pipelines.rdkit.screen.multi', 'rdkit.calculators.logp', 'rdkit.calculators.rings', 'pipelines.xchem.sanify.enumerate.v1', 'pipelines.rdkit.sucos.basic', 'rdkit.calculators.tpsa', 'chemaxon.calculators.apka', 'ocl.calculators.verify', 'core.dataset.filter.random.v1', 'chemaxon.screening.pharmacophore', 'pipelines.rdkit.conformer.constrained', 'core.dataset.enricher.v1', 'rdkit.chemcentral.multisearch', 'chemaxon.screening.ecpf4', 'rdkit.calculators.reos', 'rdkit.calculators.veber', 'rdkit.chemcentral.search.structure', 'smartcyp.predict', 'pipelines.rdkit.cluster.butina.matrix.v1', 'pipelines.rdkit.screen.basic', 'pipelines.xchem.obabel.prepare.pdb.v1', 'rdkit.calculators.ruleofthree', 'pipelines.docking.smog2016.v1', 'pipelines.xchem.pbf_ev.v1', 'chemaxon.calculators.kidsMpo', 'cdk.calculators.verify', 'pipelines.rdkit.cluster.subsetpicker.simple', 'rdkit.calculators.lipinski', 'pipelines.xchem.reaction.maker.v1', 'chemaxon.calculators.ruleofthreefilter', 'ocl.logp', 'ocl.logs', 'pipelines.xchem.sanify.standardise.molvs.v1', 'docker.generic.dataset.v1', 'rdkit.calculators.verify', 'pipelines.rdkit.conformer.basic']\n"
     ]
    }
   ],
   "source": [
    "list = squonk.list_service_ids()\n",
    "print(list)"
   ]
  },
  {
   "cell_type": "markdown",
   "metadata": {},
   "source": [
    "## save yaml template"
   ]
  },
  {
   "cell_type": "code",
   "execution_count": 13,
   "metadata": {},
   "outputs": [
    {
     "name": "stdout",
     "output_type": "stream",
     "text": [
      "Enter filename to save job output to> testt\n"
     ]
    }
   ],
   "source": [
    "filename=input('Enter filename to save job output to> ')\n",
    "squonk.job_yaml_template(filename, 'core.dataset.filter.slice.v1')\n"
   ]
  },
  {
   "cell_type": "markdown",
   "metadata": {},
   "source": [
    "## start a job"
   ]
  },
  {
   "cell_type": "code",
   "execution_count": 5,
   "metadata": {},
   "outputs": [
    {
     "name": "stdout",
     "output_type": "stream",
     "text": [
      "run_job ...\n"
     ]
    }
   ],
   "source": [
    "# setup jobinputs to pass to command\n",
    "\n",
    "options = {\"skip\":2,\"count\":3}\n",
    "inputs = { 'input': {\n",
    "            'data' : 'data/Kinase_inhibs.json.gz',\n",
    "            'meta' : 'data/Kinase_inhibs.metadata' }\n",
    "        }\n",
    "service = 'core.dataset.filter.slice.v1'\n",
    "\n",
    "# write yaml\n",
    "#print('yaml_from_inputs ...')\n",
    "#job = squonk.yaml_from_inputs(service, options, inputs, 'test_output/example_from_job.yaml')\n",
    "\n",
    "# start job\n",
    "print('run_job ...')\n",
    "job_id = squonk.run_job(service, options, inputs)\n",
    "print('Job started with id:'+job_id)\n",
    "\n",
    "\n"
   ]
  },
  {
   "cell_type": "markdown",
   "metadata": {},
   "source": [
    "## Get Job Status"
   ]
  },
  {
   "cell_type": "code",
   "execution_count": 7,
   "metadata": {},
   "outputs": [
    {
     "name": "stdout",
     "output_type": "stream",
     "text": [
      "job_status ...\n",
      "RESULTS_READY\n"
     ]
    }
   ],
   "source": [
    "# get status\n",
    "print('job_status ...')\n",
    "status = squonk.job_status(job_id)\n",
    "print(status)"
   ]
  },
  {
   "cell_type": "markdown",
   "metadata": {},
   "source": [
    "## List my jobs"
   ]
  },
  {
   "cell_type": "code",
   "execution_count": 8,
   "metadata": {},
   "outputs": [
    {
     "name": "stdout",
     "output_type": "stream",
     "text": [
      "list jobs ...\n",
      "['99f1c92a-c462-477b-8815-018bafd9c8c4', '74ba2fbb-346d-43b6-a82f-ff61540da88d', 'c1f7fb55-78a5-47c6-99af-e498712b3227', 'cee2d3a8-cd2b-4292-8bff-479488c7a3e3', 'fccd7171-2177-4c1f-87e5-6bebf5938190']\n"
     ]
    }
   ],
   "source": [
    "# list_jobs\n",
    "print('list jobs ...')\n",
    "list = squonk.list_jobs()\n",
    "print(list)"
   ]
  },
  {
   "cell_type": "markdown",
   "metadata": {},
   "source": [
    "## wait for results to be ready"
   ]
  },
  {
   "cell_type": "code",
   "execution_count": 9,
   "metadata": {},
   "outputs": [
    {
     "name": "stdout",
     "output_type": "stream",
     "text": [
      "Enter directory to save job output to> test_output\n",
      "waiting for job: fccd7171-2177-4c1f-87e5-6bebf5938190\n"
     ]
    }
   ],
   "source": [
    "# wait for results\n",
    "outdir=input('Enter directory to save job output to> ')\n",
    "print('waiting for job: ' + job_id)\n",
    "\n",
    "squonk.job_wait(job_id, dir=outdir)\n"
   ]
  },
  {
   "cell_type": "markdown",
   "metadata": {},
   "source": [
    "## delete all jobs"
   ]
  },
  {
   "cell_type": "code",
   "execution_count": 12,
   "metadata": {},
   "outputs": [
    {
     "name": "stdout",
     "output_type": "stream",
     "text": [
      "delete job:fccd7171-2177-4c1f-87e5-6bebf5938190\n"
     ]
    }
   ],
   "source": [
    "# delete all users jobs\n",
    "squonk.job_delete_all()\n"
   ]
  },
  {
   "cell_type": "code",
   "execution_count": null,
   "metadata": {},
   "outputs": [],
   "source": []
  }
 ],
 "metadata": {
  "kernelspec": {
   "display_name": "Python 3",
   "language": "python",
   "name": "python3"
  },
  "language_info": {
   "codemirror_mode": {
    "name": "ipython",
    "version": 3
   },
   "file_extension": ".py",
   "mimetype": "text/x-python",
   "name": "python",
   "nbconvert_exporter": "python",
   "pygments_lexer": "ipython3",
   "version": "3.6.8"
  }
 },
 "nbformat": 4,
 "nbformat_minor": 2
}
